{
 "cells": [
  {
   "cell_type": "markdown",
   "metadata": {},
   "source": [
    "\n",
    "1. ¿Qué mediciones y en qué pozos se deben tomar para determinar la composición del gas de formación?\n",
    "2. Proporcionar un diagrama del estudio de un sistema de condensado de gas de yacimiento y caracterizar los componentes de cada etapa.\n",
    "3. ¿Cómo se determina el contenido total de condensado estable en la composición del gas de formación (en gramos-moles)?\n",
    "4. Proporcionar fórmulas de cálculo para determinar la cantidad de gas (en gramos-moles) durante la desgasificación y la desbutanización.\n",
    "5. ¿Qué fórmula se utiliza para determinar la cantidad (en gramos-moles) de pentanos e hidrocarburos de alto punto de ebullición contenidos en el condensado crudo? Caracteriza estas cantidades.\n",
    "6. ¿Cómo se determina el número de moles-gramos de los componentes individuales del gas de formación?\n",
    "7. Proporcione una fórmula para calcular el contenido potencial inicial de condensado en el gas del yacimiento. Caracteriza estas cantidades. XiYi\n",
    "8. ¿Qué fórmula se utiliza para calcular las reservas de equilibrio inicial de condensado estable? Proporcionar unidades de medida para cada parámetro.\n",
    "9. ¿Qué es el factor de recuperación de condensado? ¿Cuál es su fórmula de cálculo? ¿De qué dependen los métodos para determinar el coeficiente de recuperación de condensado?\n",
    "10. ¿En base a qué valores se construye la curva de condensación diferencial (pérdidas de condensado de formación) cuando la presión disminuye desde la presión inicial de formación hasta la presión estándar?"
   ]
  }
 ],
 "metadata": {
  "language_info": {
   "name": "python"
  }
 },
 "nbformat": 4,
 "nbformat_minor": 2
}
