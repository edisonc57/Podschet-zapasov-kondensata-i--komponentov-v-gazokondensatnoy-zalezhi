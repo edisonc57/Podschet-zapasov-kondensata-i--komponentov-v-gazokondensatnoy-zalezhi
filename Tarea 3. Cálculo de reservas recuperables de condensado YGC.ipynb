{
 "cells": [
  {
   "cell_type": "markdown",
   "metadata": {},
   "source": [
    "## Tarea 3. Cálculo de reservas recuperables de condensado en un depósito de gas condensado"
   ]
  }
 ],
 "metadata": {
  "language_info": {
   "name": "python"
  }
 },
 "nbformat": 4,
 "nbformat_minor": 2
}
