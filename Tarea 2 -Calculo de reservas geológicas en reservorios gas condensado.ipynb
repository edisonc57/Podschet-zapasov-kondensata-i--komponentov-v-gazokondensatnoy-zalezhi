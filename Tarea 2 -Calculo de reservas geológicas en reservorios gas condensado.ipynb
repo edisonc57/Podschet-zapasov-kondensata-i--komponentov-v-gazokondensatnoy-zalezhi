{
 "cells": [
  {
   "cell_type": "markdown",
   "metadata": {},
   "source": [
    "## Tarea 2. Cálculo de reservas geológicas de condensado en un yacimiento de condensado de gas"
   ]
  }
 ],
 "metadata": {
  "language_info": {
   "name": "python"
  }
 },
 "nbformat": 4,
 "nbformat_minor": 2
}
